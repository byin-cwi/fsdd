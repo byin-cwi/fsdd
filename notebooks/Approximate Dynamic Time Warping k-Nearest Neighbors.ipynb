{
 "cells": [
  {
   "cell_type": "code",
   "execution_count": 1,
   "metadata": {},
   "outputs": [],
   "source": [
    "import sys  \n",
    "sys.path.insert(0, '../utils')\n",
    "import warnings\n",
    "warnings.filterwarnings(\"ignore\")\n",
    "\n",
    "from fsdd import FSDD\n",
    "from display import show_results\n",
    "from tqdm.auto import tqdm\n",
    "import librosa, numpy as np, sequentia as seq, sklearn.preprocessing\n",
    "import matplotlib.pyplot as plt, librosa.display\n",
    "\n",
    "# Set seed, sample rate and labels\n",
    "rng = np.random.RandomState(0)\n",
    "sr = 8000\n",
    "labels = [str(i) for i in range(10)]"
   ]
  },
  {
   "cell_type": "markdown",
   "metadata": {},
   "source": [
    "Load training (80%), validation (10%) and test (10%) recordings in `numpy.ndarray` format."
   ]
  },
  {
   "cell_type": "code",
   "execution_count": 2,
   "metadata": {},
   "outputs": [],
   "source": [
    "XX_train, yy_train = FSDD('train').load()\n",
    "XX_val, yy_val = FSDD('validation').load()\n",
    "XX_test, yy_test = FSDD('test').load()"
   ]
  },
  {
   "cell_type": "markdown",
   "metadata": {},
   "source": [
    "Create a pipeline class to generate MFCCs, discard the first (offset) coefficient and standardize them over each window."
   ]
  },
  {
   "cell_type": "code",
   "execution_count": 3,
   "metadata": {},
   "outputs": [],
   "source": [
    "class PrepareMFCCs(seq.Transform):\n",
    "    def __init__(self, n_mfcc):\n",
    "        super().__init__()\n",
    "        self.n_mfcc = self._val.restricted_integer(\n",
    "            n_mfcc, lambda x: x > 0, \n",
    "            desc='number of MFCCs', expected='positive')\n",
    "        \n",
    "    def _describe(self):\n",
    "        return 'Creating and standardizing {} MFCCs'.format(self.n_mfcc)\n",
    "\n",
    "    def transform(self, X, verbose=False):\n",
    "        def mfcc(x):\n",
    "            x = x.flatten()\n",
    "            x = librosa.feature.mfcc(x, sr=sr, n_mfcc=self.n_mfcc+1)[1:]\n",
    "            x = sklearn.preprocessing.scale(x, axis=1)\n",
    "            return x.T\n",
    "        return self._apply(mfcc, X, verbose)"
   ]
  },
  {
   "cell_type": "markdown",
   "metadata": {},
   "source": [
    "Use the class to create a pipeline for generating 39 standardized MFCCs."
   ]
  },
  {
   "cell_type": "code",
   "execution_count": 4,
   "metadata": {},
   "outputs": [],
   "source": [
    "mfcc = PrepareMFCCs(n_mfcc=39)"
   ]
  },
  {
   "cell_type": "markdown",
   "metadata": {},
   "source": [
    "Preview 39 MFCCs for a sample training digit."
   ]
  },
  {
   "cell_type": "code",
   "execution_count": 5,
   "metadata": {},
   "outputs": [
    {
     "data": {
      "image/png": "[encoded data removed]",
      "text/plain": [
       "<Figure size 720x288 with 2 Axes>"
      ]
     },
     "metadata": {
      "needs_background": "light"
     },
     "output_type": "display_data"
    }
   ],
   "source": [
    "# Generate 39 MFCCs for a sample training digit\n",
    "X = mfcc(XX_train[0])\n",
    "\n",
    "# Plot the MFCCs for the digit\n",
    "plt.figure(figsize=(10, 4))\n",
    "librosa.display.specshow(X, x_axis='time')\n",
    "plt.colorbar()\n",
    "plt.title(f'Mel-Frequency Cepstral Coefficients for sample audio of digit {yy_train[0]}')\n",
    "plt.ylabel('MFCC')\n",
    "plt.tight_layout()\n",
    "plt.show()"
   ]
  },
  {
   "cell_type": "markdown",
   "metadata": {},
   "source": [
    "Generate MFCCs for training, validation and test recordings."
   ]
  },
  {
   "cell_type": "code",
   "execution_count": 6,
   "metadata": {},
   "outputs": [
    {
     "name": "stdout",
     "output_type": "stream",
     "text": [
      "Number of training recordings: 1160\n",
      "Number of validation recordings: 400\n",
      "Number of test recordings: 440\n",
      "CPU times: user 1min 49s, sys: 656 ms, total: 1min 50s\n",
      "Wall time: 14.9 s\n"
     ]
    }
   ],
   "source": [
    "%%time\n",
    "mfcc_train, mfcc_val, mfcc_test = mfcc(XX_train), mfcc(XX_val), mfcc(XX_test)\n",
    "print(f'Number of training recordings: {len(mfcc_train)}')\n",
    "print(f'Number of validation recordings: {len(mfcc_val)}')\n",
    "print(f'Number of test recordings: {len(mfcc_test)}')"
   ]
  },
  {
   "cell_type": "markdown",
   "metadata": {},
   "source": [
    "Perform a grid search over various hyper-parameters and save models which led to an accuracy improvement on validation set."
   ]
  },
  {
   "cell_type": "code",
   "execution_count": 7,
   "metadata": {},
   "outputs": [
    {
     "name": "stdout",
     "output_type": "stream",
     "text": [
      "k: 5, radius: 1, weighting: uniform, accuracy: 0.895\n",
      "k: 5, radius: 1, weighting: exp, accuracy: 0.905\n",
      "k: 5, radius: 10, weighting: uniform, accuracy: 0.9025\n",
      "k: 5, radius: 10, weighting: exp, accuracy: 0.9025\n",
      "k: 5, radius: 25, weighting: uniform, accuracy: 0.895\n",
      "k: 5, radius: 25, weighting: exp, accuracy: 0.9025\n",
      "k: 10, radius: 1, weighting: uniform, accuracy: 0.8725\n",
      "k: 10, radius: 1, weighting: exp, accuracy: 0.8975\n",
      "k: 10, radius: 10, weighting: uniform, accuracy: 0.8675\n",
      "k: 10, radius: 10, weighting: exp, accuracy: 0.8975\n",
      "k: 10, radius: 25, weighting: uniform, accuracy: 0.8825\n",
      "k: 10, radius: 25, weighting: exp, accuracy: 0.8975\n",
      "Best model: {'k': 5, 'radius': 1, 'weighting': ('exp', <function <lambda> at 0x7f4c0d7be950>)}\n",
      "CPU times: user 40.5 s, sys: 3.26 s, total: 43.7 s\n",
      "Wall time: 46min 56s\n"
     ]
    }
   ],
   "source": [
    "%%time\n",
    "best = (None, {}, -1)\n",
    "for k in (5, 10):\n",
    "    for radius in (1, 10, 25):\n",
    "        for name, weighting in (('uniform', lambda x: 1), ('exp', lambda x: np.exp(-x))):\n",
    "            clf = seq.KNNClassifier(k=k, radius=radius, weighting=weighting)\n",
    "            clf.fit(mfcc_train, yy_train)\n",
    "            acc, _ = clf.evaluate(mfcc_val, yy_val, labels=labels, n_jobs=-1)\n",
    "            file = f'../models/knn-{k}-{radius}-{name}.h5'\n",
    "            print(f'k: {k}, radius: {radius}, weighting: {name}, accuracy: {acc}')\n",
    "            if acc > best[2]:\n",
    "                # Only save models which improved!\n",
    "                clf.save(file)\n",
    "                best = (file, {'k': k, 'radius': radius, 'weighting': (name, weighting)}, acc)\n",
    "\n",
    "print(f'Best model: {best[1]}')"
   ]
  },
  {
   "cell_type": "markdown",
   "metadata": {},
   "source": [
    "Load the best model and use it to classify test recordings."
   ]
  },
  {
   "cell_type": "code",
   "execution_count": 8,
   "metadata": {},
   "outputs": [
    {
     "data": {
      "image/png": "[encoded data removed]",
      "text/plain": [
       "<Figure size 720x504 with 2 Axes>"
      ]
     },
     "metadata": {
      "needs_background": "light"
     },
     "output_type": "display_data"
    },
    {
     "name": "stdout",
     "output_type": "stream",
     "text": [
      "Accuracy: 94.77%\n",
      "CPU times: user 4.43 s, sys: 284 ms, total: 4.72 s\n",
      "Wall time: 2min 59s\n"
     ]
    }
   ],
   "source": [
    "%%time\n",
    "# Load the best model\n",
    "clf = seq.KNNClassifier.load(best[0], weighting=best[1]['weighting'][1])\n",
    "\n",
    "# Classify test recordings\n",
    "acc, cm = clf.evaluate(mfcc_test, yy_test, labels=labels, n_jobs=-1)\n",
    "show_results(acc, cm, dataset='test', labels=labels)"
   ]
  }
 ],
 "metadata": {
  "kernelspec": {
   "display_name": "Python 3",
   "language": "python",
   "name": "python3"
  },
  "language_info": {
   "codemirror_mode": {
    "name": "ipython",
    "version": 3
   },
   "file_extension": ".py",
   "mimetype": "text/x-python",
   "name": "python",
   "nbconvert_exporter": "python",
   "pygments_lexer": "ipython3",
   "version": "3.7.4"
  }
 },
 "nbformat": 4,
 "nbformat_minor": 4
}
